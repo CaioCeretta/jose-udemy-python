{
 "cells": [
  {
   "cell_type": "code",
   "execution_count": 1,
   "id": "bfc695c0-5046-4da6-a3d6-539c98c0136e",
   "metadata": {},
   "outputs": [
    {
     "name": "stdout",
     "output_type": "stream",
     "text": [
      "Hello\n"
     ]
    }
   ],
   "source": [
    "print('Hello')"
   ]
  },
  {
   "cell_type": "code",
   "execution_count": 3,
   "id": "7e04b91b-55d9-4122-a101-0154e94491e8",
   "metadata": {},
   "outputs": [
    {
     "name": "stdout",
     "output_type": "stream",
     "text": [
      "new\n"
     ]
    }
   ],
   "source": [
    "print('new')"
   ]
  },
  {
   "cell_type": "markdown",
   "id": "a4eefa06-ef6d-41db-a4f3-57744d454ff0",
   "metadata": {},
   "source": [
    "# Note\n",
    "\n",
    "hew you can write notes"
   ]
  },
  {
   "cell_type": "code",
   "execution_count": null,
   "id": "0385ae7b-0101-4e24-ac96-bd5eab3abf31",
   "metadata": {},
   "outputs": [],
   "source": []
  },
  {
   "cell_type": "code",
   "execution_count": null,
   "id": "573111e6-eda7-44b3-bdc2-0df0ca60f41e",
   "metadata": {},
   "outputs": [],
   "source": []
  }
 ],
 "metadata": {
  "kernelspec": {
   "display_name": "Python [conda env:base] *",
   "language": "python",
   "name": "conda-base-py"
  },
  "language_info": {
   "codemirror_mode": {
    "name": "ipython",
    "version": 3
   },
   "file_extension": ".py",
   "mimetype": "text/x-python",
   "name": "python",
   "nbconvert_exporter": "python",
   "pygments_lexer": "ipython3",
   "version": "3.13.5"
  }
 },
 "nbformat": 4,
 "nbformat_minor": 5
}
